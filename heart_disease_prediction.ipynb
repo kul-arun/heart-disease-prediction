{
 "cells": [
  {
   "cell_type": "markdown",
   "id": "cbe3afff",
   "metadata": {},
   "source": [
    "# Prediction of Heart Disease\n",
    "\n",
    "In this project, we build a Machine Learning (ML) model that is capable of predicting whether a person has heart disease or not, using the medical attributes of the person. Thus, we have a binary classification problem at hand and we solve it via supervised Machine Learning."
   ]
  },
  {
   "cell_type": "markdown",
   "id": "c51e4bef",
   "metadata": {},
   "source": [
    "## Data\n",
    "\n",
    "The dataset to train and test the model is taken from the `UC Irvine Machine Learning Repository`. We shall use the Cleveland dataset (https://archive.ics.uci.edu/dataset/45/heart+disease), which has the following medical attributes:\n",
    "\n",
    "* `age`: age in years.\n",
    "* `sex`: biological sex.\n",
    "    * value 1 = male\n",
    "    * value 0 = female\n",
    "* `cp`: chest pain type.\n",
    "    * value 1 = typical angina\n",
    "    * value 2 = atypical angina\n",
    "    * value 3 = non-anginal pain\n",
    "    * value 4 = asymptomatic\n",
    "* `trestbps`: resting blood pressure in mm Hg on admission to the hospital.\n",
    "* `chol`: serum cholestoral in mg/dl.\n",
    "* `fbs`: fasting blood sugar > 120 mg/dl.\n",
    "    * value 1 = true\n",
    "    * value 0 = false\n",
    "* `restecg`: resting electrocardiographic results.\n",
    "    * value 0 = normal\n",
    "    * value 1 = having ST-T wave abnormality\n",
    "    * value 2 = showing probable or definite left ventricular hypertrophy by Estes' criteria\n",
    "* `thalach`: maximum heart rate achieved.\n",
    "* `exang`: exercise induced angina.\n",
    "    * value 1 = yes\n",
    "    * value 0 = no\n",
    "* `oldpeak`: ST depression induced by exercise relative to rest.\n",
    "* `slope`: the slope of the peak exercise ST segment.\n",
    "    * value 1 = upsloping\n",
    "    * value 2 = flat\n",
    "    * value 3 = downsloping\n",
    "* `ca`: number of major vessels (0-3) colored by flourosopy.\n",
    "* `thal`: An inherited blood disorder (thalassemia)\n",
    "    * value 3 = normal\n",
    "    * value 6 = fixed defect\n",
    "    * value 7 = reversable defect\n",
    "* `num`: diagnosis of heart disease (angiographic disease status).\n",
    "    * value 0 = has no heart disease\n",
    "    * value $\\in$ {1,2,3,4} = has heart disease"
   ]
  },
  {
   "cell_type": "code",
   "execution_count": 1,
   "id": "a04e28ec",
   "metadata": {},
   "outputs": [],
   "source": [
    "import matplotlib.pyplot as plt\n",
    "import numpy as np\n",
    "import pandas as pd\n",
    "import seaborn as sns\n",
    "from sklearn.ensemble import RandomForestClassifier\n",
    "from sklearn.linear_model import LogisticRegression\n",
    "from sklearn.metrics import classification_report, ConfusionMatrixDisplay, RocCurveDisplay \n",
    "from sklearn.model_selection import cross_val_score, GridSearchCV, train_test_split\n",
    "from sklearn.preprocessing import StandardScaler\n",
    "from sklearn.svm import SVC\n",
    "from xgboost import XGBClassifier\n",
    "\n",
    "# render plots in the notebook.\n",
    "%matplotlib inline"
   ]
  },
  {
   "cell_type": "markdown",
   "id": "9b32ef4c",
   "metadata": {},
   "source": [
    "## Data Preprocessing"
   ]
  },
  {
   "cell_type": "code",
   "execution_count": 2,
   "id": "5fe200fd",
   "metadata": {},
   "outputs": [],
   "source": [
    "# names of the medical attributes.\n",
    "medical_attributes = [\"age\", \"sex\", \"cp\", \"trestbps\", \"chol\", \"fbs\", \"restecg\",\n",
    "                      \"thalach\", \"exang\", \"oldpeak\", \"slope\", \"ca\", \"thal\", \"num\"]"
   ]
  },
  {
   "cell_type": "code",
   "execution_count": 3,
   "id": "77871c97",
   "metadata": {},
   "outputs": [
    {
     "data": {
      "text/html": [
       "<div>\n",
       "<style scoped>\n",
       "    .dataframe tbody tr th:only-of-type {\n",
       "        vertical-align: middle;\n",
       "    }\n",
       "\n",
       "    .dataframe tbody tr th {\n",
       "        vertical-align: top;\n",
       "    }\n",
       "\n",
       "    .dataframe thead th {\n",
       "        text-align: right;\n",
       "    }\n",
       "</style>\n",
       "<table border=\"1\" class=\"dataframe\">\n",
       "  <thead>\n",
       "    <tr style=\"text-align: right;\">\n",
       "      <th></th>\n",
       "      <th>age</th>\n",
       "      <th>sex</th>\n",
       "      <th>cp</th>\n",
       "      <th>trestbps</th>\n",
       "      <th>chol</th>\n",
       "      <th>fbs</th>\n",
       "      <th>restecg</th>\n",
       "      <th>thalach</th>\n",
       "      <th>exang</th>\n",
       "      <th>oldpeak</th>\n",
       "      <th>slope</th>\n",
       "      <th>ca</th>\n",
       "      <th>thal</th>\n",
       "      <th>num</th>\n",
       "    </tr>\n",
       "  </thead>\n",
       "  <tbody>\n",
       "    <tr>\n",
       "      <th>0</th>\n",
       "      <td>63.0</td>\n",
       "      <td>1.0</td>\n",
       "      <td>1.0</td>\n",
       "      <td>145.0</td>\n",
       "      <td>233.0</td>\n",
       "      <td>1.0</td>\n",
       "      <td>2.0</td>\n",
       "      <td>150.0</td>\n",
       "      <td>0.0</td>\n",
       "      <td>2.3</td>\n",
       "      <td>3.0</td>\n",
       "      <td>0.0</td>\n",
       "      <td>6.0</td>\n",
       "      <td>0</td>\n",
       "    </tr>\n",
       "    <tr>\n",
       "      <th>1</th>\n",
       "      <td>67.0</td>\n",
       "      <td>1.0</td>\n",
       "      <td>4.0</td>\n",
       "      <td>160.0</td>\n",
       "      <td>286.0</td>\n",
       "      <td>0.0</td>\n",
       "      <td>2.0</td>\n",
       "      <td>108.0</td>\n",
       "      <td>1.0</td>\n",
       "      <td>1.5</td>\n",
       "      <td>2.0</td>\n",
       "      <td>3.0</td>\n",
       "      <td>3.0</td>\n",
       "      <td>2</td>\n",
       "    </tr>\n",
       "    <tr>\n",
       "      <th>2</th>\n",
       "      <td>67.0</td>\n",
       "      <td>1.0</td>\n",
       "      <td>4.0</td>\n",
       "      <td>120.0</td>\n",
       "      <td>229.0</td>\n",
       "      <td>0.0</td>\n",
       "      <td>2.0</td>\n",
       "      <td>129.0</td>\n",
       "      <td>1.0</td>\n",
       "      <td>2.6</td>\n",
       "      <td>2.0</td>\n",
       "      <td>2.0</td>\n",
       "      <td>7.0</td>\n",
       "      <td>1</td>\n",
       "    </tr>\n",
       "    <tr>\n",
       "      <th>3</th>\n",
       "      <td>37.0</td>\n",
       "      <td>1.0</td>\n",
       "      <td>3.0</td>\n",
       "      <td>130.0</td>\n",
       "      <td>250.0</td>\n",
       "      <td>0.0</td>\n",
       "      <td>0.0</td>\n",
       "      <td>187.0</td>\n",
       "      <td>0.0</td>\n",
       "      <td>3.5</td>\n",
       "      <td>3.0</td>\n",
       "      <td>0.0</td>\n",
       "      <td>3.0</td>\n",
       "      <td>0</td>\n",
       "    </tr>\n",
       "    <tr>\n",
       "      <th>4</th>\n",
       "      <td>41.0</td>\n",
       "      <td>0.0</td>\n",
       "      <td>2.0</td>\n",
       "      <td>130.0</td>\n",
       "      <td>204.0</td>\n",
       "      <td>0.0</td>\n",
       "      <td>2.0</td>\n",
       "      <td>172.0</td>\n",
       "      <td>0.0</td>\n",
       "      <td>1.4</td>\n",
       "      <td>1.0</td>\n",
       "      <td>0.0</td>\n",
       "      <td>3.0</td>\n",
       "      <td>0</td>\n",
       "    </tr>\n",
       "  </tbody>\n",
       "</table>\n",
       "</div>"
      ],
      "text/plain": [
       "    age  sex   cp  trestbps   chol  fbs  restecg  thalach  exang  oldpeak  \\\n",
       "0  63.0  1.0  1.0     145.0  233.0  1.0      2.0    150.0    0.0      2.3   \n",
       "1  67.0  1.0  4.0     160.0  286.0  0.0      2.0    108.0    1.0      1.5   \n",
       "2  67.0  1.0  4.0     120.0  229.0  0.0      2.0    129.0    1.0      2.6   \n",
       "3  37.0  1.0  3.0     130.0  250.0  0.0      0.0    187.0    0.0      3.5   \n",
       "4  41.0  0.0  2.0     130.0  204.0  0.0      2.0    172.0    0.0      1.4   \n",
       "\n",
       "   slope   ca thal  num  \n",
       "0    3.0  0.0  6.0    0  \n",
       "1    2.0  3.0  3.0    2  \n",
       "2    2.0  2.0  7.0    1  \n",
       "3    3.0  0.0  3.0    0  \n",
       "4    1.0  0.0  3.0    0  "
      ]
     },
     "execution_count": 3,
     "metadata": {},
     "output_type": "execute_result"
    }
   ],
   "source": [
    "# import the data which is stored as comma-separated values (csv).\n",
    "heart_disease = pd.read_csv(\"data/processed.cleveland.data\", header=None, names=medical_attributes)\n",
    "\n",
    "heart_disease.head()"
   ]
  },
  {
   "cell_type": "code",
   "execution_count": 4,
   "id": "e2522838",
   "metadata": {},
   "outputs": [
    {
     "name": "stdout",
     "output_type": "stream",
     "text": [
      "<class 'pandas.core.frame.DataFrame'>\n",
      "RangeIndex: 303 entries, 0 to 302\n",
      "Data columns (total 14 columns):\n",
      " #   Column    Non-Null Count  Dtype  \n",
      "---  ------    --------------  -----  \n",
      " 0   age       303 non-null    float64\n",
      " 1   sex       303 non-null    float64\n",
      " 2   cp        303 non-null    float64\n",
      " 3   trestbps  303 non-null    float64\n",
      " 4   chol      303 non-null    float64\n",
      " 5   fbs       303 non-null    float64\n",
      " 6   restecg   303 non-null    float64\n",
      " 7   thalach   303 non-null    float64\n",
      " 8   exang     303 non-null    float64\n",
      " 9   oldpeak   303 non-null    float64\n",
      " 10  slope     303 non-null    float64\n",
      " 11  ca        303 non-null    object \n",
      " 12  thal      303 non-null    object \n",
      " 13  num       303 non-null    int64  \n",
      "dtypes: float64(11), int64(1), object(2)\n",
      "memory usage: 33.3+ KB\n"
     ]
    }
   ],
   "source": [
    "# check for missing values and see the datatypes of the columns. \n",
    "heart_disease.info()"
   ]
  },
  {
   "cell_type": "markdown",
   "id": "de8bd711",
   "metadata": {},
   "source": [
    "The number of rows is 303 and there appears to be no missing values, but the datatypes of the columns `ca` and `thal` are shown as `object`. Let us inspect these columns."
   ]
  },
  {
   "cell_type": "code",
   "execution_count": 5,
   "id": "1ec3a091",
   "metadata": {},
   "outputs": [
    {
     "data": {
      "text/html": [
       "<div>\n",
       "<style scoped>\n",
       "    .dataframe tbody tr th:only-of-type {\n",
       "        vertical-align: middle;\n",
       "    }\n",
       "\n",
       "    .dataframe tbody tr th {\n",
       "        vertical-align: top;\n",
       "    }\n",
       "\n",
       "    .dataframe thead th {\n",
       "        text-align: right;\n",
       "    }\n",
       "</style>\n",
       "<table border=\"1\" class=\"dataframe\">\n",
       "  <thead>\n",
       "    <tr style=\"text-align: right;\">\n",
       "      <th></th>\n",
       "      <th>count</th>\n",
       "    </tr>\n",
       "    <tr>\n",
       "      <th>ca</th>\n",
       "      <th></th>\n",
       "    </tr>\n",
       "  </thead>\n",
       "  <tbody>\n",
       "    <tr>\n",
       "      <th>0.0</th>\n",
       "      <td>176</td>\n",
       "    </tr>\n",
       "    <tr>\n",
       "      <th>1.0</th>\n",
       "      <td>65</td>\n",
       "    </tr>\n",
       "    <tr>\n",
       "      <th>2.0</th>\n",
       "      <td>38</td>\n",
       "    </tr>\n",
       "    <tr>\n",
       "      <th>3.0</th>\n",
       "      <td>20</td>\n",
       "    </tr>\n",
       "    <tr>\n",
       "      <th>?</th>\n",
       "      <td>4</td>\n",
       "    </tr>\n",
       "  </tbody>\n",
       "</table>\n",
       "</div>"
      ],
      "text/plain": [
       "     count\n",
       "ca        \n",
       "0.0    176\n",
       "1.0     65\n",
       "2.0     38\n",
       "3.0     20\n",
       "?        4"
      ]
     },
     "execution_count": 5,
     "metadata": {},
     "output_type": "execute_result"
    }
   ],
   "source": [
    "pd.DataFrame(heart_disease[\"ca\"].value_counts())"
   ]
  },
  {
   "cell_type": "code",
   "execution_count": 6,
   "id": "dbb944e6",
   "metadata": {},
   "outputs": [
    {
     "data": {
      "text/html": [
       "<div>\n",
       "<style scoped>\n",
       "    .dataframe tbody tr th:only-of-type {\n",
       "        vertical-align: middle;\n",
       "    }\n",
       "\n",
       "    .dataframe tbody tr th {\n",
       "        vertical-align: top;\n",
       "    }\n",
       "\n",
       "    .dataframe thead th {\n",
       "        text-align: right;\n",
       "    }\n",
       "</style>\n",
       "<table border=\"1\" class=\"dataframe\">\n",
       "  <thead>\n",
       "    <tr style=\"text-align: right;\">\n",
       "      <th></th>\n",
       "      <th>count</th>\n",
       "    </tr>\n",
       "    <tr>\n",
       "      <th>thal</th>\n",
       "      <th></th>\n",
       "    </tr>\n",
       "  </thead>\n",
       "  <tbody>\n",
       "    <tr>\n",
       "      <th>3.0</th>\n",
       "      <td>166</td>\n",
       "    </tr>\n",
       "    <tr>\n",
       "      <th>7.0</th>\n",
       "      <td>117</td>\n",
       "    </tr>\n",
       "    <tr>\n",
       "      <th>6.0</th>\n",
       "      <td>18</td>\n",
       "    </tr>\n",
       "    <tr>\n",
       "      <th>?</th>\n",
       "      <td>2</td>\n",
       "    </tr>\n",
       "  </tbody>\n",
       "</table>\n",
       "</div>"
      ],
      "text/plain": [
       "      count\n",
       "thal       \n",
       "3.0     166\n",
       "7.0     117\n",
       "6.0      18\n",
       "?         2"
      ]
     },
     "execution_count": 6,
     "metadata": {},
     "output_type": "execute_result"
    }
   ],
   "source": [
    "pd.DataFrame(heart_disease[\"thal\"].value_counts())"
   ]
  },
  {
   "cell_type": "markdown",
   "id": "eaa5d404",
   "metadata": {},
   "source": [
    "Unknown values can be seen in the `ca` and `thal` columns, in the form of `?`. An easy way to get rid of these unknowns is to replace them with `NaN` value when we import the data using the `read_csv` method. This can be done as follows:"
   ]
  },
  {
   "cell_type": "code",
   "execution_count": 7,
   "id": "236e0630",
   "metadata": {},
   "outputs": [
    {
     "data": {
      "text/html": [
       "<div>\n",
       "<style scoped>\n",
       "    .dataframe tbody tr th:only-of-type {\n",
       "        vertical-align: middle;\n",
       "    }\n",
       "\n",
       "    .dataframe tbody tr th {\n",
       "        vertical-align: top;\n",
       "    }\n",
       "\n",
       "    .dataframe thead th {\n",
       "        text-align: right;\n",
       "    }\n",
       "</style>\n",
       "<table border=\"1\" class=\"dataframe\">\n",
       "  <thead>\n",
       "    <tr style=\"text-align: right;\">\n",
       "      <th></th>\n",
       "      <th>age</th>\n",
       "      <th>sex</th>\n",
       "      <th>cp</th>\n",
       "      <th>trestbps</th>\n",
       "      <th>chol</th>\n",
       "      <th>fbs</th>\n",
       "      <th>restecg</th>\n",
       "      <th>thalach</th>\n",
       "      <th>exang</th>\n",
       "      <th>oldpeak</th>\n",
       "      <th>slope</th>\n",
       "      <th>ca</th>\n",
       "      <th>thal</th>\n",
       "      <th>num</th>\n",
       "    </tr>\n",
       "  </thead>\n",
       "  <tbody>\n",
       "    <tr>\n",
       "      <th>0</th>\n",
       "      <td>63.0</td>\n",
       "      <td>1.0</td>\n",
       "      <td>1.0</td>\n",
       "      <td>145.0</td>\n",
       "      <td>233.0</td>\n",
       "      <td>1.0</td>\n",
       "      <td>2.0</td>\n",
       "      <td>150.0</td>\n",
       "      <td>0.0</td>\n",
       "      <td>2.3</td>\n",
       "      <td>3.0</td>\n",
       "      <td>0.0</td>\n",
       "      <td>6.0</td>\n",
       "      <td>0</td>\n",
       "    </tr>\n",
       "    <tr>\n",
       "      <th>1</th>\n",
       "      <td>67.0</td>\n",
       "      <td>1.0</td>\n",
       "      <td>4.0</td>\n",
       "      <td>160.0</td>\n",
       "      <td>286.0</td>\n",
       "      <td>0.0</td>\n",
       "      <td>2.0</td>\n",
       "      <td>108.0</td>\n",
       "      <td>1.0</td>\n",
       "      <td>1.5</td>\n",
       "      <td>2.0</td>\n",
       "      <td>3.0</td>\n",
       "      <td>3.0</td>\n",
       "      <td>2</td>\n",
       "    </tr>\n",
       "    <tr>\n",
       "      <th>2</th>\n",
       "      <td>67.0</td>\n",
       "      <td>1.0</td>\n",
       "      <td>4.0</td>\n",
       "      <td>120.0</td>\n",
       "      <td>229.0</td>\n",
       "      <td>0.0</td>\n",
       "      <td>2.0</td>\n",
       "      <td>129.0</td>\n",
       "      <td>1.0</td>\n",
       "      <td>2.6</td>\n",
       "      <td>2.0</td>\n",
       "      <td>2.0</td>\n",
       "      <td>7.0</td>\n",
       "      <td>1</td>\n",
       "    </tr>\n",
       "    <tr>\n",
       "      <th>3</th>\n",
       "      <td>37.0</td>\n",
       "      <td>1.0</td>\n",
       "      <td>3.0</td>\n",
       "      <td>130.0</td>\n",
       "      <td>250.0</td>\n",
       "      <td>0.0</td>\n",
       "      <td>0.0</td>\n",
       "      <td>187.0</td>\n",
       "      <td>0.0</td>\n",
       "      <td>3.5</td>\n",
       "      <td>3.0</td>\n",
       "      <td>0.0</td>\n",
       "      <td>3.0</td>\n",
       "      <td>0</td>\n",
       "    </tr>\n",
       "    <tr>\n",
       "      <th>4</th>\n",
       "      <td>41.0</td>\n",
       "      <td>0.0</td>\n",
       "      <td>2.0</td>\n",
       "      <td>130.0</td>\n",
       "      <td>204.0</td>\n",
       "      <td>0.0</td>\n",
       "      <td>2.0</td>\n",
       "      <td>172.0</td>\n",
       "      <td>0.0</td>\n",
       "      <td>1.4</td>\n",
       "      <td>1.0</td>\n",
       "      <td>0.0</td>\n",
       "      <td>3.0</td>\n",
       "      <td>0</td>\n",
       "    </tr>\n",
       "  </tbody>\n",
       "</table>\n",
       "</div>"
      ],
      "text/plain": [
       "    age  sex   cp  trestbps   chol  fbs  restecg  thalach  exang  oldpeak  \\\n",
       "0  63.0  1.0  1.0     145.0  233.0  1.0      2.0    150.0    0.0      2.3   \n",
       "1  67.0  1.0  4.0     160.0  286.0  0.0      2.0    108.0    1.0      1.5   \n",
       "2  67.0  1.0  4.0     120.0  229.0  0.0      2.0    129.0    1.0      2.6   \n",
       "3  37.0  1.0  3.0     130.0  250.0  0.0      0.0    187.0    0.0      3.5   \n",
       "4  41.0  0.0  2.0     130.0  204.0  0.0      2.0    172.0    0.0      1.4   \n",
       "\n",
       "   slope   ca  thal  num  \n",
       "0    3.0  0.0   6.0    0  \n",
       "1    2.0  3.0   3.0    2  \n",
       "2    2.0  2.0   7.0    1  \n",
       "3    3.0  0.0   3.0    0  \n",
       "4    1.0  0.0   3.0    0  "
      ]
     },
     "execution_count": 7,
     "metadata": {},
     "output_type": "execute_result"
    }
   ],
   "source": [
    "heart_disease = pd.read_csv(\"data/processed.cleveland.data\", header=None,\n",
    "                            names=medical_attributes, na_values='?')\n",
    "\n",
    "heart_disease.head()"
   ]
  },
  {
   "cell_type": "code",
   "execution_count": 8,
   "id": "be76ad1d",
   "metadata": {},
   "outputs": [
    {
     "name": "stdout",
     "output_type": "stream",
     "text": [
      "<class 'pandas.core.frame.DataFrame'>\n",
      "RangeIndex: 303 entries, 0 to 302\n",
      "Data columns (total 14 columns):\n",
      " #   Column    Non-Null Count  Dtype  \n",
      "---  ------    --------------  -----  \n",
      " 0   age       303 non-null    float64\n",
      " 1   sex       303 non-null    float64\n",
      " 2   cp        303 non-null    float64\n",
      " 3   trestbps  303 non-null    float64\n",
      " 4   chol      303 non-null    float64\n",
      " 5   fbs       303 non-null    float64\n",
      " 6   restecg   303 non-null    float64\n",
      " 7   thalach   303 non-null    float64\n",
      " 8   exang     303 non-null    float64\n",
      " 9   oldpeak   303 non-null    float64\n",
      " 10  slope     303 non-null    float64\n",
      " 11  ca        299 non-null    float64\n",
      " 12  thal      301 non-null    float64\n",
      " 13  num       303 non-null    int64  \n",
      "dtypes: float64(13), int64(1)\n",
      "memory usage: 33.3 KB\n"
     ]
    }
   ],
   "source": [
    "# check the info about the dataframe.\n",
    "heart_disease.info()"
   ]
  },
  {
   "cell_type": "markdown",
   "id": "3658ea0c",
   "metadata": {},
   "source": [
    "We can see that there are missing values in the dataframe now and all the columns are of numeric datatype. Since the number of rows with missing values are very low compared to the number of available rows, let us drop the rows of the dataframe where values are missing. Also, we shall set the non-zero values in the `num` column to 1 as they are indicators of heart disease. Thus, the target variable takes on binary values 0 (no heart disease) and 1 (heart disease)."
   ]
  },
  {
   "cell_type": "code",
   "execution_count": 9,
   "id": "7ceec899",
   "metadata": {},
   "outputs": [
    {
     "data": {
      "text/html": [
       "<div>\n",
       "<style scoped>\n",
       "    .dataframe tbody tr th:only-of-type {\n",
       "        vertical-align: middle;\n",
       "    }\n",
       "\n",
       "    .dataframe tbody tr th {\n",
       "        vertical-align: top;\n",
       "    }\n",
       "\n",
       "    .dataframe thead th {\n",
       "        text-align: right;\n",
       "    }\n",
       "</style>\n",
       "<table border=\"1\" class=\"dataframe\">\n",
       "  <thead>\n",
       "    <tr style=\"text-align: right;\">\n",
       "      <th></th>\n",
       "      <th>age</th>\n",
       "      <th>sex</th>\n",
       "      <th>cp</th>\n",
       "      <th>trestbps</th>\n",
       "      <th>chol</th>\n",
       "      <th>fbs</th>\n",
       "      <th>restecg</th>\n",
       "      <th>thalach</th>\n",
       "      <th>exang</th>\n",
       "      <th>oldpeak</th>\n",
       "      <th>slope</th>\n",
       "      <th>ca</th>\n",
       "      <th>thal</th>\n",
       "      <th>num</th>\n",
       "    </tr>\n",
       "  </thead>\n",
       "  <tbody>\n",
       "    <tr>\n",
       "      <th>0</th>\n",
       "      <td>63.0</td>\n",
       "      <td>1.0</td>\n",
       "      <td>1.0</td>\n",
       "      <td>145.0</td>\n",
       "      <td>233.0</td>\n",
       "      <td>1.0</td>\n",
       "      <td>2.0</td>\n",
       "      <td>150.0</td>\n",
       "      <td>0.0</td>\n",
       "      <td>2.3</td>\n",
       "      <td>3.0</td>\n",
       "      <td>0.0</td>\n",
       "      <td>6.0</td>\n",
       "      <td>0</td>\n",
       "    </tr>\n",
       "    <tr>\n",
       "      <th>1</th>\n",
       "      <td>67.0</td>\n",
       "      <td>1.0</td>\n",
       "      <td>4.0</td>\n",
       "      <td>160.0</td>\n",
       "      <td>286.0</td>\n",
       "      <td>0.0</td>\n",
       "      <td>2.0</td>\n",
       "      <td>108.0</td>\n",
       "      <td>1.0</td>\n",
       "      <td>1.5</td>\n",
       "      <td>2.0</td>\n",
       "      <td>3.0</td>\n",
       "      <td>3.0</td>\n",
       "      <td>1</td>\n",
       "    </tr>\n",
       "    <tr>\n",
       "      <th>2</th>\n",
       "      <td>67.0</td>\n",
       "      <td>1.0</td>\n",
       "      <td>4.0</td>\n",
       "      <td>120.0</td>\n",
       "      <td>229.0</td>\n",
       "      <td>0.0</td>\n",
       "      <td>2.0</td>\n",
       "      <td>129.0</td>\n",
       "      <td>1.0</td>\n",
       "      <td>2.6</td>\n",
       "      <td>2.0</td>\n",
       "      <td>2.0</td>\n",
       "      <td>7.0</td>\n",
       "      <td>1</td>\n",
       "    </tr>\n",
       "    <tr>\n",
       "      <th>3</th>\n",
       "      <td>37.0</td>\n",
       "      <td>1.0</td>\n",
       "      <td>3.0</td>\n",
       "      <td>130.0</td>\n",
       "      <td>250.0</td>\n",
       "      <td>0.0</td>\n",
       "      <td>0.0</td>\n",
       "      <td>187.0</td>\n",
       "      <td>0.0</td>\n",
       "      <td>3.5</td>\n",
       "      <td>3.0</td>\n",
       "      <td>0.0</td>\n",
       "      <td>3.0</td>\n",
       "      <td>0</td>\n",
       "    </tr>\n",
       "    <tr>\n",
       "      <th>4</th>\n",
       "      <td>41.0</td>\n",
       "      <td>0.0</td>\n",
       "      <td>2.0</td>\n",
       "      <td>130.0</td>\n",
       "      <td>204.0</td>\n",
       "      <td>0.0</td>\n",
       "      <td>2.0</td>\n",
       "      <td>172.0</td>\n",
       "      <td>0.0</td>\n",
       "      <td>1.4</td>\n",
       "      <td>1.0</td>\n",
       "      <td>0.0</td>\n",
       "      <td>3.0</td>\n",
       "      <td>0</td>\n",
       "    </tr>\n",
       "  </tbody>\n",
       "</table>\n",
       "</div>"
      ],
      "text/plain": [
       "    age  sex   cp  trestbps   chol  fbs  restecg  thalach  exang  oldpeak  \\\n",
       "0  63.0  1.0  1.0     145.0  233.0  1.0      2.0    150.0    0.0      2.3   \n",
       "1  67.0  1.0  4.0     160.0  286.0  0.0      2.0    108.0    1.0      1.5   \n",
       "2  67.0  1.0  4.0     120.0  229.0  0.0      2.0    129.0    1.0      2.6   \n",
       "3  37.0  1.0  3.0     130.0  250.0  0.0      0.0    187.0    0.0      3.5   \n",
       "4  41.0  0.0  2.0     130.0  204.0  0.0      2.0    172.0    0.0      1.4   \n",
       "\n",
       "   slope   ca  thal  num  \n",
       "0    3.0  0.0   6.0    0  \n",
       "1    2.0  3.0   3.0    1  \n",
       "2    2.0  2.0   7.0    1  \n",
       "3    3.0  0.0   3.0    0  \n",
       "4    1.0  0.0   3.0    0  "
      ]
     },
     "execution_count": 9,
     "metadata": {},
     "output_type": "execute_result"
    }
   ],
   "source": [
    "heart_disease.dropna(inplace=True)\n",
    "\n",
    "# set all non-zero values in the target to 1.\n",
    "heart_disease.loc[heart_disease[\"num\"] != 0, \"num\"] = 1\n",
    "\n",
    "# heart_disease.head()\n",
    "heart_disease.head()"
   ]
  },
  {
   "cell_type": "code",
   "execution_count": 10,
   "id": "cfe9c207",
   "metadata": {},
   "outputs": [
    {
     "name": "stdout",
     "output_type": "stream",
     "text": [
      "<class 'pandas.core.frame.DataFrame'>\n",
      "Index: 297 entries, 0 to 301\n",
      "Data columns (total 14 columns):\n",
      " #   Column    Non-Null Count  Dtype  \n",
      "---  ------    --------------  -----  \n",
      " 0   age       297 non-null    float64\n",
      " 1   sex       297 non-null    float64\n",
      " 2   cp        297 non-null    float64\n",
      " 3   trestbps  297 non-null    float64\n",
      " 4   chol      297 non-null    float64\n",
      " 5   fbs       297 non-null    float64\n",
      " 6   restecg   297 non-null    float64\n",
      " 7   thalach   297 non-null    float64\n",
      " 8   exang     297 non-null    float64\n",
      " 9   oldpeak   297 non-null    float64\n",
      " 10  slope     297 non-null    float64\n",
      " 11  ca        297 non-null    float64\n",
      " 12  thal      297 non-null    float64\n",
      " 13  num       297 non-null    int64  \n",
      "dtypes: float64(13), int64(1)\n",
      "memory usage: 34.8 KB\n"
     ]
    }
   ],
   "source": [
    "heart_disease.info()"
   ]
  },
  {
   "cell_type": "code",
   "execution_count": 11,
   "id": "60181843",
   "metadata": {},
   "outputs": [
    {
     "name": "stdout",
     "output_type": "stream",
     "text": [
      "The dataframe has 297 rows and 14 columns.\n"
     ]
    }
   ],
   "source": [
    "# Dimension of the dataframe.\n",
    "print(f\"The dataframe has {heart_disease.shape[0]} rows and {heart_disease.shape[1]} columns.\")"
   ]
  },
  {
   "cell_type": "markdown",
   "id": "ef293c0a",
   "metadata": {},
   "source": [
    "## Exploratory Data Analysis"
   ]
  },
  {
   "cell_type": "markdown",
   "id": "7ea40f78",
   "metadata": {},
   "source": [
    "Let us look at the distribution of samples in the dataset on the basis of sex and heart disease."
   ]
  },
  {
   "cell_type": "code",
   "execution_count": 12,
   "id": "5783a548",
   "metadata": {},
   "outputs": [
    {
     "data": {
      "text/html": [
       "<div>\n",
       "<style scoped>\n",
       "    .dataframe tbody tr th:only-of-type {\n",
       "        vertical-align: middle;\n",
       "    }\n",
       "\n",
       "    .dataframe tbody tr th {\n",
       "        vertical-align: top;\n",
       "    }\n",
       "\n",
       "    .dataframe thead th {\n",
       "        text-align: right;\n",
       "    }\n",
       "</style>\n",
       "<table border=\"1\" class=\"dataframe\">\n",
       "  <thead>\n",
       "    <tr style=\"text-align: right;\">\n",
       "      <th>num</th>\n",
       "      <th>0</th>\n",
       "      <th>1</th>\n",
       "    </tr>\n",
       "    <tr>\n",
       "      <th>sex</th>\n",
       "      <th></th>\n",
       "      <th></th>\n",
       "    </tr>\n",
       "  </thead>\n",
       "  <tbody>\n",
       "    <tr>\n",
       "      <th>0</th>\n",
       "      <td>71</td>\n",
       "      <td>25</td>\n",
       "    </tr>\n",
       "    <tr>\n",
       "      <th>1</th>\n",
       "      <td>89</td>\n",
       "      <td>112</td>\n",
       "    </tr>\n",
       "  </tbody>\n",
       "</table>\n",
       "</div>"
      ],
      "text/plain": [
       "num   0    1\n",
       "sex         \n",
       "0    71   25\n",
       "1    89  112"
      ]
     },
     "execution_count": 12,
     "metadata": {},
     "output_type": "execute_result"
    }
   ],
   "source": [
    "sex_num_crosstab = pd.crosstab(heart_disease[\"sex\"].astype(int), heart_disease[\"num\"])\n",
    "\n",
    "sex_num_crosstab"
   ]
  },
  {
   "cell_type": "code",
   "execution_count": 13,
   "id": "05108a69",
   "metadata": {},
   "outputs": [
    {
     "data": {
      "image/png": "[encoded data removed]",
      "text/plain": [
       "<Figure size 500x500 with 1 Axes>"
      ]
     },
     "metadata": {},
     "output_type": "display_data"
    }
   ],
   "source": [
    "healthy_male_num = sex_num_crosstab.loc[1, 0]\n",
    "unhealthy_male_num = sex_num_crosstab.loc[1, 1]\n",
    "total_male_num = healthy_male_num + unhealthy_male_num\n",
    "\n",
    "healthy_female_num = sex_num_crosstab.loc[0, 0]\n",
    "unhealthy_female_num = sex_num_crosstab.loc[0, 1]\n",
    "total_female_num = healthy_female_num + unhealthy_female_num\n",
    "\n",
    "inner_values = [total_male_num, total_female_num]\n",
    "inner_labels = [\"Males\", \"Females\"]\n",
    "inner_colors = [\"#636EFA\", \"#EF553B\"]\n",
    "\n",
    "outer_values = [healthy_male_num, unhealthy_male_num, healthy_female_num, unhealthy_female_num]\n",
    "outer_labels = [\"Males without heart disease\", \"Males with heart disease\",\n",
    "                \"Females without heart disease\", \"Females with heart disease\"]\n",
    "outer_colors = [\"#636EFA\", \"#636EFA\", \"#EF553B\", \"#EF553B\"]\n",
    "\n",
    "fig, ax = plt.subplots(figsize=(5, 5))\n",
    "\n",
    "ax.pie(x=inner_values, colors=inner_colors, radius=0.7, autopct='%1.2f%%', pctdistance=0.6,\n",
    "       wedgeprops=dict(edgecolor=\"black\", width=0.45), textprops=dict(color=\"white\"))\n",
    "\n",
    "_, _, autotexts = ax.pie(x=outer_values, colors=outer_colors, radius=1.2, autopct='%1.2f%%', pctdistance=0.83,\n",
    "                         wedgeprops=dict(edgecolor=\"black\", width=0.4), labels=outer_labels)\n",
    "\n",
    "for autotext in autotexts:\n",
    "    autotext.set_color(\"white\")\n",
    "\n",
    "ax.set(aspect=\"equal\", title=\"Distribution of samples on the basis of sex and heart disease\");\n",
    "\n",
    "ax.legend(inner_labels, loc=(1.15, 0.55), framealpha=1, fancybox=False, edgecolor=\"black\");"
   ]
  },
  {
   "cell_type": "markdown",
   "id": "d6c9b9ab",
   "metadata": {},
   "source": [
    "The number of male samples in the dataset is almost twice the number of female samples. We also observe that only about a quarter of the female samples in the given dataset have heart disease, in contrast to the male samples where roughly half of them have heart disease. Let us now look at the age distribution of the male and female samples."
   ]
  },
  {
   "cell_type": "code",
   "execution_count": 14,
   "id": "f7efb03a",
   "metadata": {},
   "outputs": [
    {
     "data": {
      "image/png": "[encoded data removed]",
      "text/plain": [
       "<Figure size 1000x600 with 1 Axes>"
      ]
     },
     "metadata": {},
     "output_type": "display_data"
    }
   ],
   "source": [
    "age_data_with_hd = heart_disease.loc[heart_disease[\"num\"] == 1, \"age\"].value_counts()\n",
    "age_data_without_hd = heart_disease.loc[heart_disease[\"num\"] == 0, \"age\"].value_counts()\n",
    "\n",
    "fig, ax = plt.subplots(figsize=(10, 6))\n",
    "\n",
    "ax.bar(x=age_data_without_hd.index, height=age_data_without_hd.values,\n",
    "       color=\"#EF553B\", alpha=0.5, label=\"Without heart disease\", zorder=1)\n",
    "\n",
    "ax.bar(x=age_data_with_hd.index, height=age_data_with_hd.values,\n",
    "       color=\"#636EFA\", label=\"With heart disease\", zorder=0)\n",
    "\n",
    "ax.set(title=\"Distribution of samples on the basis of age and heart disease\",\n",
    "       xlabel=\"Age (years)\", ylabel=\"Count\", xlim=(27, 79), xticks=range(28, 80, 2))\n",
    "\n",
    "ax.legend(fancybox=False, framealpha=1, edgecolor=\"black\");"
   ]
  },
  {
   "cell_type": "markdown",
   "id": "42fa37d9",
   "metadata": {},
   "source": [
    "In the given dataset, the highest count of samples with heart disease corresponds to the age of 58 years. We can see that the number of samples suffering from heart disease is large for ages between 50 and 70 years. The mean age of male and female samples with and without heart disease is computed below:"
   ]
  },
  {
   "cell_type": "code",
   "execution_count": 15,
   "id": "c06ab02b",
   "metadata": {},
   "outputs": [
    {
     "data": {
      "text/html": [
       "<div>\n",
       "<style scoped>\n",
       "    .dataframe tbody tr th:only-of-type {\n",
       "        vertical-align: middle;\n",
       "    }\n",
       "\n",
       "    .dataframe tbody tr th {\n",
       "        vertical-align: top;\n",
       "    }\n",
       "\n",
       "    .dataframe thead th {\n",
       "        text-align: right;\n",
       "    }\n",
       "</style>\n",
       "<table border=\"1\" class=\"dataframe\">\n",
       "  <thead>\n",
       "    <tr style=\"text-align: right;\">\n",
       "      <th></th>\n",
       "      <th></th>\n",
       "      <th>age</th>\n",
       "    </tr>\n",
       "    <tr>\n",
       "      <th>sex</th>\n",
       "      <th>num</th>\n",
       "      <th></th>\n",
       "    </tr>\n",
       "  </thead>\n",
       "  <tbody>\n",
       "    <tr>\n",
       "      <th rowspan=\"2\" valign=\"top\">0.0</th>\n",
       "      <th>0</th>\n",
       "      <td>54.577465</td>\n",
       "    </tr>\n",
       "    <tr>\n",
       "      <th>1</th>\n",
       "      <td>59.080000</td>\n",
       "    </tr>\n",
       "    <tr>\n",
       "      <th rowspan=\"2\" valign=\"top\">1.0</th>\n",
       "      <th>0</th>\n",
       "      <td>51.101124</td>\n",
       "    </tr>\n",
       "    <tr>\n",
       "      <th>1</th>\n",
       "      <td>56.241071</td>\n",
       "    </tr>\n",
       "  </tbody>\n",
       "</table>\n",
       "</div>"
      ],
      "text/plain": [
       "               age\n",
       "sex num           \n",
       "0.0 0    54.577465\n",
       "    1    59.080000\n",
       "1.0 0    51.101124\n",
       "    1    56.241071"
      ]
     },
     "execution_count": 15,
     "metadata": {},
     "output_type": "execute_result"
    }
   ],
   "source": [
    "pd.DataFrame(heart_disease.groupby([\"sex\", \"num\"])[\"age\"].mean())"
   ]
  },
  {
   "cell_type": "markdown",
   "id": "852d0614",
   "metadata": {},
   "source": [
    "On average, the age of a female sample is more than the age of a male sample, in both groups of samples (with heart disease and without heart disease). We shall proceed by analysing the relationship between the age and the maximum heart rate of the samples."
   ]
  },
  {
   "cell_type": "code",
   "execution_count": 16,
   "id": "466ab214",
   "metadata": {},
   "outputs": [
    {
     "data": {
      "image/png": "[encoded data removed]",
      "text/plain": [
       "<Figure size 1000x600 with 1 Axes>"
      ]
     },
     "metadata": {},
     "output_type": "display_data"
    }
   ],
   "source": [
    "fig, ax = plt.subplots(figsize=(10, 6))\n",
    "\n",
    "ax.scatter(x=heart_disease.loc[heart_disease[\"num\"] == 0, \"age\"],\n",
    "           y=heart_disease.loc[heart_disease[\"num\"] == 0, \"thalach\"],\n",
    "           c=\"#EF553B\", alpha=0.75, label=\"Without heart disease\")\n",
    "\n",
    "ax.scatter(x=heart_disease.loc[heart_disease[\"num\"] == 1, \"age\"],\n",
    "           y=heart_disease.loc[heart_disease[\"num\"] == 1, \"thalach\"],\n",
    "           c=\"#636EFA\", alpha=0.75, label=\"With heart disease\")\n",
    "\n",
    "ax.set(title=\"Distribution of samples on the basis of age and maximum heart rate\",\n",
    "       xlabel=\"Age (years)\", xlim=(27, 82), xticks=range(30, 81, 5),\n",
    "       ylabel=\"Maximum Heart Rate (beats/min)\")\n",
    "\n",
    "ax.legend(fancybox=False, framealpha=1, edgecolor=\"black\");"
   ]
  },
  {
   "cell_type": "markdown",
   "id": "0600b503",
   "metadata": {},
   "source": [
    "The maximum heart rate of a sample decreases with the increase in age, irrespective of the existence of heart disease. The relationship between the mdeical attributes are easily seen with the help of the following correlation matrix:"
   ]
  },
  {
   "cell_type": "code",
   "execution_count": null,
   "id": "98668925",
   "metadata": {},
   "outputs": [],
   "source": [
    "fig, ax = plt.subplots(figsize=(10, 6))\n",
    "\n",
    "ax = sns.heatmap(data=heart_disease.corr(), cmap=\"coolwarm\", annot=True,\n",
    "                 fmt=\".2f\", linewidth=0.5, linecolor=\"black\", clip_on=False);"
   ]
  },
  {
   "cell_type": "markdown",
   "id": "d1718e36",
   "metadata": {},
   "source": [
    "A high positive value implies a positive correlation and a high negative value implies a negative correlation."
   ]
  },
  {
   "cell_type": "markdown",
   "id": "3af9ef7f",
   "metadata": {},
   "source": [
    "## Supervised Machine Learning\n",
    "\n",
    "The `num` attribute is the target (label) and the rest of the attributes are the features of the ML model. We shall split the data into features and target:"
   ]
  },
  {
   "cell_type": "code",
   "execution_count": null,
   "id": "1c9f9014",
   "metadata": {},
   "outputs": [],
   "source": [
    "# features\n",
    "X = heart_disease.drop(\"num\", axis=1)\n",
    "\n",
    "# labels\n",
    "y = heart_disease[\"num\"]"
   ]
  },
  {
   "cell_type": "markdown",
   "id": "2af406d3",
   "metadata": {},
   "source": [
    "Split the data further, to obtain a test set for final evaluatation."
   ]
  },
  {
   "cell_type": "code",
   "execution_count": null,
   "id": "1f634cba",
   "metadata": {},
   "outputs": [],
   "source": [
    "X_train, X_test, y_train, y_test = train_test_split(X, y, test_size=0.25, random_state=0)"
   ]
  },
  {
   "cell_type": "markdown",
   "id": "c4509f4b",
   "metadata": {},
   "source": [
    "Let us look at the top 5 rows of `X_train`."
   ]
  },
  {
   "cell_type": "code",
   "execution_count": null,
   "id": "3e4f8663",
   "metadata": {},
   "outputs": [],
   "source": [
    "X_train.head()"
   ]
  },
  {
   "cell_type": "markdown",
   "id": "d912d6db",
   "metadata": {},
   "source": [
    "The dimensions of the training and test sets are:"
   ]
  },
  {
   "cell_type": "code",
   "execution_count": null,
   "id": "c9262b4c",
   "metadata": {},
   "outputs": [],
   "source": [
    "X_train.shape, X_test.shape"
   ]
  },
  {
   "cell_type": "markdown",
   "id": "2f549dab",
   "metadata": {},
   "source": [
    "We shall now perform feature scaling on the train and test sets using `StandardScalar`."
   ]
  },
  {
   "cell_type": "code",
   "execution_count": null,
   "id": "b5edaca6",
   "metadata": {},
   "outputs": [],
   "source": [
    "scalar = StandardScaler()\n",
    "\n",
    "X_train = pd.DataFrame(scalar.fit_transform(X_train), columns=X.columns)\n",
    "\n",
    "X_test = pd.DataFrame(scalar.transform(X_test), columns=X.columns)"
   ]
  },
  {
   "cell_type": "markdown",
   "id": "959990dd",
   "metadata": {},
   "source": [
    "The transformed `X_train` is of the following form:"
   ]
  },
  {
   "cell_type": "code",
   "execution_count": null,
   "id": "11de3cce",
   "metadata": {},
   "outputs": [],
   "source": [
    "X_train.head()"
   ]
  },
  {
   "cell_type": "markdown",
   "id": "aaadc7fe",
   "metadata": {},
   "source": [
    "Let us now create a dictionary of models to test their performance on the given data. To ensure the reproducibility of the results, we shall use the `random_state` parameter."
   ]
  },
  {
   "cell_type": "code",
   "execution_count": null,
   "id": "588b23cf",
   "metadata": {},
   "outputs": [],
   "source": [
    "models_to_test_dict = {\"SVC\": SVC(random_state=0),\n",
    "                       \"LogisticRegression\": LogisticRegression(random_state=0),\n",
    "                       \"RandomForestClassifier\": RandomForestClassifier(random_state=0),\n",
    "                       \"XGBClassifier\": XGBClassifier(random_state=0)}\n",
    "\n",
    "accuracy = {}"
   ]
  },
  {
   "cell_type": "code",
   "execution_count": null,
   "id": "604f6e10",
   "metadata": {},
   "outputs": [],
   "source": [
    "for model_name, model in models_to_test_dict.items():\n",
    "    accuracy[model_name] = np.mean(cross_val_score(model, X_train, y_train, cv=5, scoring=\"accuracy\"))"
   ]
  },
  {
   "cell_type": "code",
   "execution_count": null,
   "id": "d472e0e4",
   "metadata": {},
   "outputs": [],
   "source": [
    "baseline_predictions = pd.DataFrame(accuracy, index=[\"Accuracy\"]).T\n",
    "\n",
    "baseline_predictions"
   ]
  },
  {
   "cell_type": "markdown",
   "id": "e769efc1",
   "metadata": {},
   "source": [
    "The baseline predictions are visualized below:"
   ]
  },
  {
   "cell_type": "code",
   "execution_count": null,
   "id": "13801422",
   "metadata": {},
   "outputs": [],
   "source": [
    "baseline_predictions.plot(kind=\"bar\", figsize=(10, 6), color=\"#636EFA\", ylim=(0.75, 0.85),\n",
    "                          title=\"Accuracy scores of various baseline models\",\n",
    "                          rot=0, ylabel=\"Accuracy Score\", width=0.25, legend=False)\n",
    "\n",
    "plt.axhline(y=baseline_predictions[\"Accuracy\"].max(), linestyle=\"--\", color=\"crimson\");"
   ]
  },
  {
   "cell_type": "markdown",
   "id": "85e39a97",
   "metadata": {},
   "source": [
    "We observe that LogisticRegression model performs the best among all the chosen models in terms of accuracy. Let us now proceed with the LogisticRegression model and tune its hyperparameters. The parameters of the model are:"
   ]
  },
  {
   "cell_type": "code",
   "execution_count": null,
   "id": "fa409e49",
   "metadata": {},
   "outputs": [],
   "source": [
    "LogisticRegression().get_params()"
   ]
  },
  {
   "cell_type": "markdown",
   "id": "753d4917",
   "metadata": {},
   "source": [
    "GridSearchCV can be used to find optimal values for the hyperparameters of the model. The values to test are given in the dictionary below:"
   ]
  },
  {
   "cell_type": "code",
   "execution_count": null,
   "id": "d02d6162",
   "metadata": {},
   "outputs": [],
   "source": [
    "parameter_test_values = {\"solver\": [\"lbfgs\", \"liblinear\"],\n",
    "                         \"C\": np.logspace(-4, 4, 40)}"
   ]
  },
  {
   "cell_type": "code",
   "execution_count": null,
   "id": "4ba8ac28",
   "metadata": {},
   "outputs": [],
   "source": [
    "log_reg_model = GridSearchCV(estimator=LogisticRegression(random_state=0),\n",
    "                             param_grid=parameter_test_values,\n",
    "                             cv=5, verbose=True)\n",
    "\n",
    "# fit the model on the train set.\n",
    "log_reg_model.fit(X_train, y_train);"
   ]
  },
  {
   "cell_type": "markdown",
   "id": "daf7a249",
   "metadata": {},
   "source": [
    "From all the possible combinations in `parameter_test_values`, the best values for the hyperparameters are:"
   ]
  },
  {
   "cell_type": "code",
   "execution_count": null,
   "id": "1f0aa86d",
   "metadata": {},
   "outputs": [],
   "source": [
    "log_reg_model.best_params_"
   ]
  },
  {
   "cell_type": "markdown",
   "id": "8266bd72",
   "metadata": {},
   "source": [
    "Let us now compare the performance of the baseline model and the tuned model. "
   ]
  },
  {
   "cell_type": "code",
   "execution_count": null,
   "id": "0fec0e9b",
   "metadata": {},
   "outputs": [],
   "source": [
    "tuned_model = LogisticRegression(random_state=0, **log_reg_model.best_params_)\n",
    "\n",
    "baseline_model = LogisticRegression(random_state=0)"
   ]
  },
  {
   "cell_type": "code",
   "execution_count": null,
   "id": "bc1aaaa7",
   "metadata": {},
   "outputs": [],
   "source": [
    "models_dict = {\"Baseline Model\": baseline_model, \"Tuned Model\": tuned_model}\n",
    "\n",
    "score_parameters = [\"Accuracy\", \"Precision\", \"Recall\", \"F1\"]\n",
    "\n",
    "scores_df = pd.DataFrame(index=models_dict.keys(), columns=score_parameters)\n",
    "\n",
    "for model_name in models_dict:\n",
    "    for param in score_parameters:\n",
    "        scores_list = cross_val_score(models_dict[model_name], X_train, y_train, cv=5, scoring=param.lower())\n",
    "        scores_df.loc[model_name, param] = np.mean(scores_list)\n",
    "        \n",
    "scores_df"
   ]
  },
  {
   "cell_type": "markdown",
   "id": "891ba250",
   "metadata": {},
   "source": [
    "Let's visualise the above model scores:"
   ]
  },
  {
   "cell_type": "code",
   "execution_count": null,
   "id": "d70b4b8f",
   "metadata": {},
   "outputs": [],
   "source": [
    "scores_df.plot(kind=\"bar\", figsize=(10, 6), ylim=(0.795, 0.865), ylabel=\"Score\",\n",
    "               rot=0, color=[\"#636EFA\", \"orange\", \"green\", \"#EF553B\"],\n",
    "               title=\"Performance comparison between Baseline Model & Tuned Model\")\n",
    "\n",
    "plt.legend(fancybox=False, framealpha=1, edgecolor=\"black\");"
   ]
  },
  {
   "cell_type": "markdown",
   "id": "e1a0e07a",
   "metadata": {},
   "source": [
    "We shall now fit the tuned model and then make predictions on the test set."
   ]
  },
  {
   "cell_type": "code",
   "execution_count": null,
   "id": "f75990fe",
   "metadata": {},
   "outputs": [],
   "source": [
    "tuned_model.fit(X_train, y_train)\n",
    "\n",
    "y_pred = tuned_model.predict(X_test)\n",
    "\n",
    "train_set_score = tuned_model.score(X_train, y_train)\n",
    "test_set_score = tuned_model.score(X_test, y_test)\n",
    "\n",
    "print(f\"Accuracy of the tuned model's prediction on the train set: {train_set_score:.2%}\")\n",
    "print(f\"Accuracy of the tuned model's prediction on the test set: {test_set_score:.2%}\")"
   ]
  },
  {
   "cell_type": "markdown",
   "id": "2052f90f",
   "metadata": {},
   "source": [
    "The associated confusion matrix is:"
   ]
  },
  {
   "cell_type": "code",
   "execution_count": null,
   "id": "16a16f58",
   "metadata": {},
   "outputs": [],
   "source": [
    "fig, ax = plt.subplots(figsize=(10, 6))\n",
    "\n",
    "ax.set_title(\"Confusion Matrix\")\n",
    "\n",
    "ConfusionMatrixDisplay.from_predictions(y_test, y_pred, cmap=\"plasma\", ax=ax);"
   ]
  },
  {
   "cell_type": "markdown",
   "id": "02e56b60",
   "metadata": {},
   "source": [
    "The Receiver Operating Characteristic (ROC) curve and the value of the area under the curve (AUC) is shown below:"
   ]
  },
  {
   "cell_type": "code",
   "execution_count": null,
   "id": "9a8aa24d",
   "metadata": {},
   "outputs": [],
   "source": [
    "fig, ax = plt.subplots(figsize=(10, 6))\n",
    "\n",
    "ax.set_title(\"ROC Curve\")\n",
    "\n",
    "RocCurveDisplay.from_estimator(tuned_model, X_test, y_test, color=\"#0000FF\", ax=ax);\n",
    "\n",
    "plt.legend(loc=\"right\", fancybox=False, framealpha=1, edgecolor=\"black\");"
   ]
  },
  {
   "cell_type": "markdown",
   "id": "c2ff1768",
   "metadata": {},
   "source": [
    "Finally, we shall look at the corresponding classification report."
   ]
  },
  {
   "cell_type": "code",
   "execution_count": null,
   "id": "3b5a1d4d",
   "metadata": {},
   "outputs": [],
   "source": [
    "print(classification_report(y_test, y_pred))"
   ]
  },
  {
   "cell_type": "markdown",
   "id": "df9b84f4",
   "metadata": {},
   "source": [
    "Let us now inspect the important features."
   ]
  },
  {
   "cell_type": "code",
   "execution_count": null,
   "id": "f496035c",
   "metadata": {},
   "outputs": [],
   "source": [
    "features_dict = dict(zip(X_train.columns, tuned_model.coef_[0]))"
   ]
  },
  {
   "cell_type": "code",
   "execution_count": null,
   "id": "fb586522",
   "metadata": {},
   "outputs": [],
   "source": [
    "fig, ax = plt.subplots(figsize=(10, 6))\n",
    "\n",
    "ax.set(title=\"Feature Importance\", ylabel=\"Feature coefficients\")\n",
    "\n",
    "pd.DataFrame(features_dict, index=[0]).T.plot(kind=\"bar\", color=\"#636EFA\", legend=False, ax=ax);"
   ]
  },
  {
   "cell_type": "markdown",
   "id": "ee0d238b",
   "metadata": {},
   "source": [
    "By looking at the plot above, we observe that `cp`, `exang`, `ca` and `thal` attributes have a strong positive correlation with `num`, whereas `thalach` has a strong negative correlation with `num`. "
   ]
  }
 ],
 "metadata": {
  "kernelspec": {
   "display_name": "Python 3 (ipykernel)",
   "language": "python",
   "name": "python3"
  },
  "language_info": {
   "codemirror_mode": {
    "name": "ipython",
    "version": 3
   },
   "file_extension": ".py",
   "mimetype": "text/x-python",
   "name": "python",
   "nbconvert_exporter": "python",
   "pygments_lexer": "ipython3",
   "version": "3.10.10"
  }
 },
 "nbformat": 4,
 "nbformat_minor": 5
}
